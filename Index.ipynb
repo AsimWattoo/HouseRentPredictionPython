{
 "cells": [
  {
   "cell_type": "code",
   "execution_count": 159,
   "metadata": {},
   "outputs": [],
   "source": [
    "import numpy as np\n",
    "import pandas as pd\n",
    "import matplotlib.pyplot as plt\n",
    "from tqdm import tqdm\n",
    "import math"
   ]
  },
  {
   "cell_type": "markdown",
   "metadata": {},
   "source": [
    "# Reading and Preprocessing Data"
   ]
  },
  {
   "cell_type": "code",
   "execution_count": 184,
   "metadata": {},
   "outputs": [
    {
     "data": {
      "text/html": [
       "<div>\n",
       "<style scoped>\n",
       "    .dataframe tbody tr th:only-of-type {\n",
       "        vertical-align: middle;\n",
       "    }\n",
       "\n",
       "    .dataframe tbody tr th {\n",
       "        vertical-align: top;\n",
       "    }\n",
       "\n",
       "    .dataframe thead th {\n",
       "        text-align: right;\n",
       "    }\n",
       "</style>\n",
       "<table border=\"1\" class=\"dataframe\">\n",
       "  <thead>\n",
       "    <tr style=\"text-align: right;\">\n",
       "      <th></th>\n",
       "      <th>BHK</th>\n",
       "      <th>Size</th>\n",
       "      <th>Area Type</th>\n",
       "      <th>Area Locality</th>\n",
       "      <th>City</th>\n",
       "      <th>Furnishing Status</th>\n",
       "      <th>Bathroom</th>\n",
       "    </tr>\n",
       "  </thead>\n",
       "  <tbody>\n",
       "    <tr>\n",
       "      <th>0</th>\n",
       "      <td>2</td>\n",
       "      <td>1100</td>\n",
       "      <td>Super Area</td>\n",
       "      <td>Bandel</td>\n",
       "      <td>Kolkata</td>\n",
       "      <td>Unfurnished</td>\n",
       "      <td>2</td>\n",
       "    </tr>\n",
       "    <tr>\n",
       "      <th>1</th>\n",
       "      <td>2</td>\n",
       "      <td>800</td>\n",
       "      <td>Super Area</td>\n",
       "      <td>Phool Bagan, Kankurgachi</td>\n",
       "      <td>Kolkata</td>\n",
       "      <td>Semi-Furnished</td>\n",
       "      <td>1</td>\n",
       "    </tr>\n",
       "    <tr>\n",
       "      <th>2</th>\n",
       "      <td>2</td>\n",
       "      <td>1000</td>\n",
       "      <td>Super Area</td>\n",
       "      <td>Salt Lake City Sector 2</td>\n",
       "      <td>Kolkata</td>\n",
       "      <td>Semi-Furnished</td>\n",
       "      <td>1</td>\n",
       "    </tr>\n",
       "    <tr>\n",
       "      <th>3</th>\n",
       "      <td>2</td>\n",
       "      <td>800</td>\n",
       "      <td>Super Area</td>\n",
       "      <td>Dumdum Park</td>\n",
       "      <td>Kolkata</td>\n",
       "      <td>Unfurnished</td>\n",
       "      <td>1</td>\n",
       "    </tr>\n",
       "    <tr>\n",
       "      <th>4</th>\n",
       "      <td>2</td>\n",
       "      <td>850</td>\n",
       "      <td>Carpet Area</td>\n",
       "      <td>South Dum Dum</td>\n",
       "      <td>Kolkata</td>\n",
       "      <td>Unfurnished</td>\n",
       "      <td>1</td>\n",
       "    </tr>\n",
       "    <tr>\n",
       "      <th>...</th>\n",
       "      <td>...</td>\n",
       "      <td>...</td>\n",
       "      <td>...</td>\n",
       "      <td>...</td>\n",
       "      <td>...</td>\n",
       "      <td>...</td>\n",
       "      <td>...</td>\n",
       "    </tr>\n",
       "    <tr>\n",
       "      <th>4741</th>\n",
       "      <td>2</td>\n",
       "      <td>1000</td>\n",
       "      <td>Carpet Area</td>\n",
       "      <td>Bandam Kommu</td>\n",
       "      <td>Hyderabad</td>\n",
       "      <td>Semi-Furnished</td>\n",
       "      <td>2</td>\n",
       "    </tr>\n",
       "    <tr>\n",
       "      <th>4742</th>\n",
       "      <td>3</td>\n",
       "      <td>2000</td>\n",
       "      <td>Super Area</td>\n",
       "      <td>Manikonda, Hyderabad</td>\n",
       "      <td>Hyderabad</td>\n",
       "      <td>Semi-Furnished</td>\n",
       "      <td>3</td>\n",
       "    </tr>\n",
       "    <tr>\n",
       "      <th>4743</th>\n",
       "      <td>3</td>\n",
       "      <td>1750</td>\n",
       "      <td>Carpet Area</td>\n",
       "      <td>Himayath Nagar, NH 7</td>\n",
       "      <td>Hyderabad</td>\n",
       "      <td>Semi-Furnished</td>\n",
       "      <td>3</td>\n",
       "    </tr>\n",
       "    <tr>\n",
       "      <th>4744</th>\n",
       "      <td>3</td>\n",
       "      <td>1500</td>\n",
       "      <td>Carpet Area</td>\n",
       "      <td>Gachibowli</td>\n",
       "      <td>Hyderabad</td>\n",
       "      <td>Semi-Furnished</td>\n",
       "      <td>2</td>\n",
       "    </tr>\n",
       "    <tr>\n",
       "      <th>4745</th>\n",
       "      <td>2</td>\n",
       "      <td>1000</td>\n",
       "      <td>Carpet Area</td>\n",
       "      <td>Suchitra Circle</td>\n",
       "      <td>Hyderabad</td>\n",
       "      <td>Unfurnished</td>\n",
       "      <td>2</td>\n",
       "    </tr>\n",
       "  </tbody>\n",
       "</table>\n",
       "<p>4746 rows × 7 columns</p>\n",
       "</div>"
      ],
      "text/plain": [
       "      BHK  Size    Area Type             Area Locality       City  \\\n",
       "0       2  1100   Super Area                    Bandel    Kolkata   \n",
       "1       2   800   Super Area  Phool Bagan, Kankurgachi    Kolkata   \n",
       "2       2  1000   Super Area   Salt Lake City Sector 2    Kolkata   \n",
       "3       2   800   Super Area               Dumdum Park    Kolkata   \n",
       "4       2   850  Carpet Area             South Dum Dum    Kolkata   \n",
       "...   ...   ...          ...                       ...        ...   \n",
       "4741    2  1000  Carpet Area              Bandam Kommu  Hyderabad   \n",
       "4742    3  2000   Super Area      Manikonda, Hyderabad  Hyderabad   \n",
       "4743    3  1750  Carpet Area      Himayath Nagar, NH 7  Hyderabad   \n",
       "4744    3  1500  Carpet Area                Gachibowli  Hyderabad   \n",
       "4745    2  1000  Carpet Area           Suchitra Circle  Hyderabad   \n",
       "\n",
       "     Furnishing Status  Bathroom  \n",
       "0          Unfurnished         2  \n",
       "1       Semi-Furnished         1  \n",
       "2       Semi-Furnished         1  \n",
       "3          Unfurnished         1  \n",
       "4          Unfurnished         1  \n",
       "...                ...       ...  \n",
       "4741    Semi-Furnished         2  \n",
       "4742    Semi-Furnished         3  \n",
       "4743    Semi-Furnished         3  \n",
       "4744    Semi-Furnished         2  \n",
       "4745       Unfurnished         2  \n",
       "\n",
       "[4746 rows x 7 columns]"
      ]
     },
     "execution_count": 184,
     "metadata": {},
     "output_type": "execute_result"
    }
   ],
   "source": [
    "# Loading Data\n",
    "data_df = pd.read_csv(\"House_Rent_Dataset.csv\")\n",
    "# Keeping only the specific attributes\n",
    "label = 'Rent'\n",
    "features = ['BHK', 'Size', 'Area Type', 'Area Locality', 'City', 'Furnishing Status', 'Bathroom']\n",
    "x_df = data_df.loc[:, features]\n",
    "y_df = pd.DataFrame(data_df.loc[:, label])\n",
    "x_df"
   ]
  },
  {
   "cell_type": "code",
   "execution_count": 185,
   "metadata": {},
   "outputs": [],
   "source": [
    "# Converts categorical value to numerical values\n",
    "def categorical_to_numerical(df, column_name):\n",
    "    unique_values = np.unique(df[column_name])\n",
    "    unique_nums = list(range(0, unique_values.__len__()))\n",
    "    df[column_name] = df[column_name].replace(unique_values, unique_nums)"
   ]
  },
  {
   "cell_type": "code",
   "execution_count": 186,
   "metadata": {},
   "outputs": [],
   "source": [
    "# Converting string values to numerical values\n",
    "categorical_to_numerical(x_df, 'Area Type')\n",
    "categorical_to_numerical(x_df, 'Area Locality')\n",
    "categorical_to_numerical(x_df, 'City')\n",
    "categorical_to_numerical(x_df, 'Furnishing Status')"
   ]
  },
  {
   "cell_type": "markdown",
   "metadata": {},
   "source": [
    "Normalizing Features and Labels"
   ]
  },
  {
   "cell_type": "code",
   "execution_count": 187,
   "metadata": {},
   "outputs": [],
   "source": [
    "# Normalizes the features\n",
    "def normalize(df, column):\n",
    "    mean = np.mean(df[column])\n",
    "    std = np.std(df[column])\n",
    "    df[column] = (df[column] - mean) / std\n",
    "    return (mean, std)"
   ]
  },
  {
   "cell_type": "code",
   "execution_count": 188,
   "metadata": {},
   "outputs": [],
   "source": [
    "# Hold values used for normalization\n",
    "normalized_dict = {}\n",
    "# Normalizing all the features\n",
    "for col in x_df.columns:\n",
    "    normalized_dict[col] = normalize(x_df, col)\n",
    "normalized_dict['label'] = normalize(y_df, 'Rent')"
   ]
  },
  {
   "cell_type": "markdown",
   "metadata": {},
   "source": [
    "# Visualizing Data"
   ]
  },
  {
   "cell_type": "code",
   "execution_count": 190,
   "metadata": {},
   "outputs": [],
   "source": [
    "# Calculating mean Rent per city\n",
    "cities = np.unique(data_df.City)\n",
    "cities_mean_rent = []\n",
    "for city in cities:\n",
    "    cities_mean_rent.append(np.mean(data_df.loc[data_df.City == city]['Rent']))"
   ]
  },
  {
   "cell_type": "code",
   "execution_count": 191,
   "metadata": {},
   "outputs": [
    {
     "data": {
      "text/plain": [
       "[Text(0.5, 0, 'Cities'), Text(0, 0.5, 'BHK')]"
      ]
     },
     "execution_count": 191,
     "metadata": {},
     "output_type": "execute_result"
    },
    {
     "data": {
      "image/png": "[encoded data removed]",
      "text/plain": [
       "<Figure size 1800x1000 with 4 Axes>"
      ]
     },
     "metadata": {},
     "output_type": "display_data"
    }
   ],
   "source": [
    "# Plotting multiple data\n",
    "fig, axs = plt.subplots(2, 2, figsize = (18, 10))\n",
    "\n",
    "# Cities vs Mean Rent\n",
    "axs[0, 0].bar(cities, cities_mean_rent)\n",
    "axs[0, 0].title.set_text('Cities Mean Rent')\n",
    "plt.setp(axs[0, 0], xlabel='Cities', ylabel='Mean Rent')\n",
    "\n",
    "# Size vs Rent\n",
    "axs[0, 1].scatter(data_df.Size, data_df.Rent, c = 'green')\n",
    "axs[0, 1].title.set_text('Size vs Rent')\n",
    "plt.setp(axs[0, 1], xlabel='Size', ylabel='Rent')\n",
    "\n",
    "# BHK vs Rent\n",
    "axs[1, 0].scatter(data_df.BHK, data_df.Rent)\n",
    "axs[1, 0].title.set_text('BHK vs Rent')\n",
    "plt.setp(axs[1, 0], xlabel='BHK', ylabel='Rent')\n",
    "\n",
    "# City vs BHK\n",
    "axs[1, 1].scatter(data_df.City, data_df['BHK'])\n",
    "axs[1, 1].title.set_text('City vs BHK')\n",
    "plt.setp(axs[1, 1], xlabel='Cities', ylabel='BHK')"
   ]
  },
  {
   "cell_type": "markdown",
   "metadata": {},
   "source": [
    "# Perfomring Linear Regression"
   ]
  },
  {
   "cell_type": "code",
   "execution_count": 192,
   "metadata": {},
   "outputs": [],
   "source": [
    "# Declaring Required Variables\n",
    "n = x_df.columns.__len__() + 1\n",
    "m = x_df.__len__()\n",
    "theta = np.random.rand(n, 1)"
   ]
  },
  {
   "cell_type": "code",
   "execution_count": 193,
   "metadata": {},
   "outputs": [
    {
     "data": {
      "text/plain": [
       "array([ 1.        , -0.10077301,  0.2089605 ,  0.96888131, -1.37525095,\n",
       "        0.86344905,  1.11157455,  0.03859399])"
      ]
     },
     "execution_count": 193,
     "metadata": {},
     "output_type": "execute_result"
    }
   ],
   "source": [
    "# Converting X and Y dataframes to arrays\n",
    "X = np.array(x_df)\n",
    "y = np.array(y_df)\n",
    "\n",
    "# Appending column with value 1 to the begining of the array for multiplication with theta(0)\n",
    "ones = np.ones((m, 1))\n",
    "X = np.concatenate((ones, X), axis = 1)\n",
    "X[0]"
   ]
  },
  {
   "cell_type": "markdown",
   "metadata": {},
   "source": [
    "Splitting in Training and Testing Datasets"
   ]
  },
  {
   "cell_type": "code",
   "execution_count": 194,
   "metadata": {},
   "outputs": [],
   "source": [
    "training_size = 0.9\n",
    "total_training_samples = int(X.shape[0] * training_size)\n",
    "train_samples = np.random.choice(X.shape[0], total_training_samples, replace = False)\n",
    "test_samples = np.delete(list(range(0, X.shape[0])), samples).__len__()\n",
    "\n",
    "# Separating training and testing data\n",
    "X_train = X[train_samples]\n",
    "X_test = X[test_samples]\n",
    "y_train = y[train_samples]\n",
    "y_test = y[test_samples]"
   ]
  },
  {
   "cell_type": "markdown",
   "metadata": {},
   "source": [
    "Defining Cost Function"
   ]
  },
  {
   "cell_type": "code",
   "execution_count": 195,
   "metadata": {},
   "outputs": [],
   "source": [
    "# Calculates the cost\n",
    "def cost(theta, X, y, lam):\n",
    "    m = X.shape[0]\n",
    "    return (1 / (2 * m)) * np.sum( predict(theta, X) - y) + (lam / (2 * m)) * np.sum(np.square(theta))"
   ]
  },
  {
   "cell_type": "code",
   "execution_count": 196,
   "metadata": {},
   "outputs": [],
   "source": [
    "# Calculates the gradient descent and returns the updated values of the theta\n",
    "def gradient(theta, X, y, alpha, lam):\n",
    "    m = X.shape[0]\n",
    "    return theta - (alpha / m) * np.transpose(np.dot(np.transpose(predict(theta, X) - y), X)) + (lam / m) * theta"
   ]
  },
  {
   "cell_type": "code",
   "execution_count": 197,
   "metadata": {},
   "outputs": [],
   "source": [
    "# Predicts the values for the data\n",
    "def predict(theta, X):\n",
    "    return np.dot(X, theta)"
   ]
  },
  {
   "cell_type": "code",
   "execution_count": 198,
   "metadata": {},
   "outputs": [],
   "source": [
    "epochs = 200\n",
    "learning_rate = 0.01\n",
    "lam = 1.5"
   ]
  },
  {
   "cell_type": "code",
   "execution_count": 199,
   "metadata": {},
   "outputs": [
    {
     "name": "stderr",
     "output_type": "stream",
     "text": [
      "100%|██████████| 200/200 [00:00<00:00, 9090.68it/s]"
     ]
    },
    {
     "name": "stdout",
     "output_type": "stream",
     "text": [
      "Cost for epoch 0 is 0.1144\n",
      "Cost for epoch 1 is 0.1132\n",
      "Cost for epoch 2 is 0.1121\n",
      "Cost for epoch 3 is 0.1109\n",
      "Cost for epoch 4 is 0.1098\n",
      "Cost for epoch 5 is 0.1087\n",
      "Cost for epoch 6 is 0.1076\n",
      "Cost for epoch 7 is 0.1065\n",
      "Cost for epoch 8 is 0.1054\n",
      "Cost for epoch 9 is 0.1043\n",
      "Cost for epoch 10 is 0.1033\n",
      "Cost for epoch 11 is 0.1022\n",
      "Cost for epoch 12 is 0.1012\n",
      "Cost for epoch 13 is 0.1002\n",
      "Cost for epoch 14 is 0.0992\n",
      "Cost for epoch 15 is 0.0982\n",
      "Cost for epoch 16 is 0.0972\n",
      "Cost for epoch 17 is 0.0962\n",
      "Cost for epoch 18 is 0.0952\n",
      "Cost for epoch 19 is 0.0943\n",
      "Cost for epoch 20 is 0.0933\n",
      "Cost for epoch 21 is 0.0924\n",
      "Cost for epoch 22 is 0.0915\n",
      "Cost for epoch 23 is 0.0906\n",
      "Cost for epoch 24 is 0.0897\n",
      "Cost for epoch 25 is 0.0888\n",
      "Cost for epoch 26 is 0.0879\n",
      "Cost for epoch 27 is 0.087\n",
      "Cost for epoch 28 is 0.0861\n",
      "Cost for epoch 29 is 0.0853\n",
      "Cost for epoch 30 is 0.0844\n",
      "Cost for epoch 31 is 0.0836\n",
      "Cost for epoch 32 is 0.0827\n",
      "Cost for epoch 33 is 0.0819\n",
      "Cost for epoch 34 is 0.0811\n",
      "Cost for epoch 35 is 0.0803\n",
      "Cost for epoch 36 is 0.0795\n",
      "Cost for epoch 37 is 0.0787\n",
      "Cost for epoch 38 is 0.0779\n",
      "Cost for epoch 39 is 0.0771\n",
      "Cost for epoch 40 is 0.0764\n",
      "Cost for epoch 41 is 0.0756\n",
      "Cost for epoch 42 is 0.0749\n",
      "Cost for epoch 43 is 0.0741\n",
      "Cost for epoch 44 is 0.0734\n",
      "Cost for epoch 45 is 0.0727\n",
      "Cost for epoch 46 is 0.0719\n",
      "Cost for epoch 47 is 0.0712\n",
      "Cost for epoch 48 is 0.0705\n",
      "Cost for epoch 49 is 0.0698\n",
      "Cost for epoch 50 is 0.0691\n",
      "Cost for epoch 51 is 0.0685\n",
      "Cost for epoch 52 is 0.0678\n",
      "Cost for epoch 53 is 0.0671\n",
      "Cost for epoch 54 is 0.0664\n",
      "Cost for epoch 55 is 0.0658\n",
      "Cost for epoch 56 is 0.0651\n",
      "Cost for epoch 57 is 0.0645\n",
      "Cost for epoch 58 is 0.0639\n",
      "Cost for epoch 59 is 0.0632\n",
      "Cost for epoch 60 is 0.0626\n",
      "Cost for epoch 61 is 0.062\n",
      "Cost for epoch 62 is 0.0614\n",
      "Cost for epoch 63 is 0.0608\n",
      "Cost for epoch 64 is 0.0602\n",
      "Cost for epoch 65 is 0.0596\n",
      "Cost for epoch 66 is 0.059\n",
      "Cost for epoch 67 is 0.0584\n",
      "Cost for epoch 68 is 0.0579\n",
      "Cost for epoch 69 is 0.0573\n",
      "Cost for epoch 70 is 0.0567\n",
      "Cost for epoch 71 is 0.0562\n",
      "Cost for epoch 72 is 0.0556\n",
      "Cost for epoch 73 is 0.0551\n",
      "Cost for epoch 74 is 0.0545\n",
      "Cost for epoch 75 is 0.054\n",
      "Cost for epoch 76 is 0.0535\n",
      "Cost for epoch 77 is 0.0529\n",
      "Cost for epoch 78 is 0.0524\n",
      "Cost for epoch 79 is 0.0519\n",
      "Cost for epoch 80 is 0.0514\n",
      "Cost for epoch 81 is 0.0509\n",
      "Cost for epoch 82 is 0.0504\n",
      "Cost for epoch 83 is 0.0499\n",
      "Cost for epoch 84 is 0.0494\n",
      "Cost for epoch 85 is 0.0489\n",
      "Cost for epoch 86 is 0.0485\n",
      "Cost for epoch 87 is 0.048\n",
      "Cost for epoch 88 is 0.0475\n",
      "Cost for epoch 89 is 0.0471\n",
      "Cost for epoch 90 is 0.0466\n",
      "Cost for epoch 91 is 0.0461\n",
      "Cost for epoch 92 is 0.0457\n",
      "Cost for epoch 93 is 0.0453\n",
      "Cost for epoch 94 is 0.0448\n",
      "Cost for epoch 95 is 0.0444\n",
      "Cost for epoch 96 is 0.0439\n",
      "Cost for epoch 97 is 0.0435\n",
      "Cost for epoch 98 is 0.0431\n",
      "Cost for epoch 99 is 0.0427\n",
      "Cost for epoch 100 is 0.0423\n",
      "Cost for epoch 101 is 0.0418\n",
      "Cost for epoch 102 is 0.0414\n",
      "Cost for epoch 103 is 0.041\n",
      "Cost for epoch 104 is 0.0406\n",
      "Cost for epoch 105 is 0.0402\n",
      "Cost for epoch 106 is 0.0398\n",
      "Cost for epoch 107 is 0.0395\n",
      "Cost for epoch 108 is 0.0391\n",
      "Cost for epoch 109 is 0.0387\n",
      "Cost for epoch 110 is 0.0383\n",
      "Cost for epoch 111 is 0.0379\n",
      "Cost for epoch 112 is 0.0376\n",
      "Cost for epoch 113 is 0.0372\n",
      "Cost for epoch 114 is 0.0369\n",
      "Cost for epoch 115 is 0.0365\n",
      "Cost for epoch 116 is 0.0361\n",
      "Cost for epoch 117 is 0.0358\n",
      "Cost for epoch 118 is 0.0354\n",
      "Cost for epoch 119 is 0.0351\n",
      "Cost for epoch 120 is 0.0348\n",
      "Cost for epoch 121 is 0.0344\n",
      "Cost for epoch 122 is 0.0341\n",
      "Cost for epoch 123 is 0.0338\n",
      "Cost for epoch 124 is 0.0334\n",
      "Cost for epoch 125 is 0.0331\n",
      "Cost for epoch 126 is 0.0328\n",
      "Cost for epoch 127 is 0.0325\n",
      "Cost for epoch 128 is 0.0322\n",
      "Cost for epoch 129 is 0.0318\n",
      "Cost for epoch 130 is 0.0315\n",
      "Cost for epoch 131 is 0.0312\n",
      "Cost for epoch 132 is 0.0309\n",
      "Cost for epoch 133 is 0.0306\n",
      "Cost for epoch 134 is 0.0303\n",
      "Cost for epoch 135 is 0.03\n",
      "Cost for epoch 136 is 0.0297\n",
      "Cost for epoch 137 is 0.0295\n",
      "Cost for epoch 138 is 0.0292\n",
      "Cost for epoch 139 is 0.0289\n",
      "Cost for epoch 140 is 0.0286\n",
      "Cost for epoch 141 is 0.0283\n",
      "Cost for epoch 142 is 0.0281\n",
      "Cost for epoch 143 is 0.0278\n",
      "Cost for epoch 144 is 0.0275\n",
      "Cost for epoch 145 is 0.0273\n",
      "Cost for epoch 146 is 0.027\n",
      "Cost for epoch 147 is 0.0267\n",
      "Cost for epoch 148 is 0.0265\n",
      "Cost for epoch 149 is 0.0262\n",
      "Cost for epoch 150 is 0.026\n",
      "Cost for epoch 151 is 0.0257\n",
      "Cost for epoch 152 is 0.0255\n",
      "Cost for epoch 153 is 0.0252\n",
      "Cost for epoch 154 is 0.025\n",
      "Cost for epoch 155 is 0.0247\n",
      "Cost for epoch 156 is 0.0245\n",
      "Cost for epoch 157 is 0.0243\n",
      "Cost for epoch 158 is 0.024\n",
      "Cost for epoch 159 is 0.0238\n",
      "Cost for epoch 160 is 0.0236\n",
      "Cost for epoch 161 is 0.0233\n",
      "Cost for epoch 162 is 0.0231\n",
      "Cost for epoch 163 is 0.0229\n",
      "Cost for epoch 164 is 0.0227\n",
      "Cost for epoch 165 is 0.0224\n",
      "Cost for epoch 166 is 0.0222\n",
      "Cost for epoch 167 is 0.022\n",
      "Cost for epoch 168 is 0.0218\n",
      "Cost for epoch 169 is 0.0216\n",
      "Cost for epoch 170 is 0.0214\n",
      "Cost for epoch 171 is 0.0212\n",
      "Cost for epoch 172 is 0.021\n",
      "Cost for epoch 173 is 0.0208\n",
      "Cost for epoch 174 is 0.0206\n",
      "Cost for epoch 175 is 0.0204\n",
      "Cost for epoch 176 is 0.0202\n",
      "Cost for epoch 177 is 0.02\n",
      "Cost for epoch 178 is 0.0198\n",
      "Cost for epoch 179 is 0.0196\n",
      "Cost for epoch 180 is 0.0194\n",
      "Cost for epoch 181 is 0.0192\n",
      "Cost for epoch 182 is 0.019\n",
      "Cost for epoch 183 is 0.0189\n",
      "Cost for epoch 184 is 0.0187\n",
      "Cost for epoch 185 is 0.0185\n",
      "Cost for epoch 186 is 0.0183\n",
      "Cost for epoch 187 is 0.0181\n",
      "Cost for epoch 188 is 0.018\n",
      "Cost for epoch 189 is 0.0178\n",
      "Cost for epoch 190 is 0.0176\n",
      "Cost for epoch 191 is 0.0175\n",
      "Cost for epoch 192 is 0.0173\n",
      "Cost for epoch 193 is 0.0171\n",
      "Cost for epoch 194 is 0.017\n",
      "Cost for epoch 195 is 0.0168\n",
      "Cost for epoch 196 is 0.0166\n",
      "Cost for epoch 197 is 0.0165\n",
      "Cost for epoch 198 is 0.0163\n",
      "Cost for epoch 199 is 0.0162\n"
     ]
    },
    {
     "name": "stderr",
     "output_type": "stream",
     "text": [
      "\n"
     ]
    }
   ],
   "source": [
    "history = []\n",
    "# Training Loop\n",
    "for i in tqdm(range(epochs)):\n",
    "    # Determining cost\n",
    "    epoch_cost = cost(theta, X_train, y_train, lam)\n",
    "    # Storing the cost history\n",
    "    history.append(epoch_cost)\n",
    "    # Displaying data\n",
    "    print(f'Cost for epoch {i} is {round(epoch_cost, 4)}')\n",
    "    # Updating the theta\n",
    "    theta = gradient(theta, X_train, y_train, learning_rate, lam)"
   ]
  },
  {
   "cell_type": "code",
   "execution_count": 200,
   "metadata": {},
   "outputs": [
    {
     "name": "stdout",
     "output_type": "stream",
     "text": [
      "Test Loss: 0.07\n"
     ]
    }
   ],
   "source": [
    "# Predicting the test cost\n",
    "print(f'Test Loss: {round(cost(theta, X_test, y_test, lam), 2)}')"
   ]
  },
  {
   "cell_type": "markdown",
   "metadata": {},
   "source": [
    "# Plotting Results"
   ]
  },
  {
   "cell_type": "code",
   "execution_count": 201,
   "metadata": {},
   "outputs": [
    {
     "data": {
      "text/plain": [
       "Text(0, 0.5, 'Loss')"
      ]
     },
     "execution_count": 201,
     "metadata": {},
     "output_type": "execute_result"
    },
    {
     "data": {
      "image/png": "[encoded data removed]",
      "text/plain": [
       "<Figure size 640x480 with 1 Axes>"
      ]
     },
     "metadata": {},
     "output_type": "display_data"
    }
   ],
   "source": [
    "plt.plot(list(range(epochs)), history)\n",
    "plt.title('Training Loss History')\n",
    "plt.xlabel('Epochs')\n",
    "plt.ylabel('Loss')"
   ]
  },
  {
   "cell_type": "code",
   "execution_count": 210,
   "metadata": {},
   "outputs": [],
   "source": [
    "# Normalizes the given vector with specified value\n",
    "def normalize_with_values(X, mean, std):\n",
    "    return (X - mean) / std\n",
    "\n",
    "# De-normalizes the value based on the given values\n",
    "def denormalize(X, mean, std):\n",
    "    return X * std + mean"
   ]
  },
  {
   "cell_type": "code",
   "execution_count": 215,
   "metadata": {},
   "outputs": [
    {
     "name": "stdout",
     "output_type": "stream",
     "text": [
      "Predicted Rent is INR 40289.96\n"
     ]
    }
   ],
   "source": [
    "# Predicting result for house with 2 BHK, 500 Size, Area Type 1, Location 3, City 2, Furnishing Status 1, and 1 Bathroom\n",
    "prediction_x = [1, \n",
    "    normalize_with_values(4, normalized_dict['BHK'][0], normalized_dict['BHK'][1]), \n",
    "    normalize_with_values(200, normalized_dict['Size'][0], normalized_dict['Size'][1]), \n",
    "    normalize_with_values(1, normalized_dict['Area Type'][0], normalized_dict['Area Type'][1]), \n",
    "    normalize_with_values(3, normalized_dict['Area Locality'][0], normalized_dict['Area Locality'][1]), \n",
    "    normalize_with_values(2, normalized_dict['City'][0], normalized_dict['City'][1]), \n",
    "    normalize_with_values(1, normalized_dict['Furnishing Status'][0], normalized_dict['Furnishing Status'][1]), \n",
    "    normalize_with_values(3, normalized_dict['Bathroom'][0], normalized_dict['Bathroom'][1])]\n",
    "\n",
    "predict_y = predict(theta, prediction_x)\n",
    "predicted_value = denormalize(predict_y, normalized_dict['label'][0], normalized_dict['label'][1])\n",
    "print(f'Predicted Rent is INR {round(predicted_value[0], 2)}')"
   ]
  }
 ],
 "metadata": {
  "kernelspec": {
   "display_name": "base",
   "language": "python",
   "name": "python3"
  },
  "language_info": {
   "codemirror_mode": {
    "name": "ipython",
    "version": 3
   },
   "file_extension": ".py",
   "mimetype": "text/x-python",
   "name": "python",
   "nbconvert_exporter": "python",
   "pygments_lexer": "ipython3",
   "version": "3.10.9"
  },
  "orig_nbformat": 4
 },
 "nbformat": 4,
 "nbformat_minor": 2
}
